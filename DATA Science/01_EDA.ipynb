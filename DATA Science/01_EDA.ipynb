{
 "cells": [
  {
   "cell_type": "code",
   "execution_count": 3,
   "metadata": {},
   "outputs": [],
   "source": [
    "# Install pip packages in the current Jupyter kernel\n",
    "# import sys\n",
    "# !{sys.executable} -m pip install numpy\n",
    "# !{sys.executable} -m pip install pandas\n",
    "# !{sys.executable} -m pip install matplotlib==3.0.3\n",
    "# !{sys.executable} -m pip install seaborn\n",
    "\n",
    "import numpy as np\n",
    "import pandas as pd\n",
    "import matplotlib.pyplot as plt \n",
    "import seaborn as sns\n",
    "\n",
    "######### jupyter notebook anaconda 가상화면 하는법 ########"
   ]
  },
  {
   "cell_type": "markdown",
   "metadata": {},
   "source": [
    "# 인공지능 비트 트레이더 경진대회 시즌 2 EDA\n",
    "## 데이터 이해\n",
    "**1. train_x_df.csv (10572180, 12)**  \n",
    "임의의 시점 부터 2021년 1월 31일까지 9가지 종류의 암호화폐의 분단위 가격정보를 가공한 데이터  \n",
    "  \n",
    "**2. train_y_df.csv (919320, 12)**  \n",
    "임의의 시점 부터 2021년 1월 31일까지 9가지 종류의 암호화폐의 분단위 가격정보를 가공한 데이터  \n",
    "  \n",
    "**3.test_x_df.csv (738300, 12)**  \n",
    "2021년 2월 1일 부터 임의의 시점까지 9가지 종류의 암호화폐의 분단위 가격정보를 가공한 데이터  \n",
    "  \n",
    "  \n",
    "이 중 일부 데이터를 public 점수를 계산하고, 다른 일부 데이터를 private 점수 계산하는데 사용합니다.  \n",
    "  \n",
    "\n",
    "**4.sample_submission.csv (535, 3)**  \n",
    "test_x_df에는 535가지 sample_id가 존재하고 각 sample_id는 1380분 동안의 가격 변동 정보를 포함합니다.  \n",
    "buy_quantity : 현재 보유량 대비 샘플의 매수량 (0 ~ 1)  \n",
    "sell_time : 샘플의 매도 시각. (0~ 119분 사이의 정수)  \n",
    "  \n",
    "  \n",
    "  \n",
    "**컬럼 설명**  \n",
    "  \n",
    "sample_id : 개별 샘플의 인덱스  \n",
    "time : x_df는 0분 ~ 1379분, y_df는 0분 ~ 119분의 값을 갖습니다. 동일한 샘플 내 시간 정보  \n",
    "coin_index : 10가지 종류의 코인에 대한 비식별화 인덱스 (0 ~9)  \n",
    "open : open price  \n",
    "high : high price  \n",
    "low : low price  \n",
    "close : close price  \n",
    "volume : 거래량  \n",
    "quote_av : quote asset volume  \n",
    "trades : 거래 건 수  \n",
    "tb_base_av : taker buy base asset volume  \n",
    "tb_quote_av : taker buy quote asset volume  \n",
    "  \n",
    "  \n",
    "  \n",
    "**비트코인을 모르는 나를 위한 칼럼 상세**  \n",
    "*★ 거래량*  \n",
    "\\- 특정 시간내에 특정 자산군의 지분이 거래되는 수치를 보여준다.  \n",
    "\\- 거래량은 시장의 움직임에 대하여 상대적 중요성을 측정해준다.  \n",
    "\\- 가격의 변동의 과정속에 거래량이 급증하면 거래량이 적을때 보다 더 신뢰도가 높다.  \n",
    "  \n",
    "   \n",
    "*★ quote asset vloume*: 주문총량  \n",
    "   \n",
    "   \n",
    "*★ tb_base_av*  \n",
    "taker = buyer  \n",
    "maker = seller  \n",
    "base asset = buyer이 받은 코인 수  \n",
    "volume = total amount of traded coins  \n",
    "  \n",
    "Taker buy base asset vloume: 구매자가 받은 코인이 수 총 합계  \n",
    "참고) 'Volume' - ' Taker buy base asset volume' = ' Maker buy base asset volume'  \n",
    "  \n",
    "  \n",
    "*★ tb_quote_av*  \n",
    "구매자가 주문한 수\n",
    "\n",
    "거래량: https://coinpick.com/chart_volume/3255  \n",
    "tb_base_av: https://www.moneynet.co.kr/index.php?mid=free_board&term=m&date_start=20170619&date_end=20170626&page=4&document_srl=41424549&listStyle=viewer"
   ]
  },
  {
   "cell_type": "code",
   "execution_count": 44,
   "metadata": {},
   "outputs": [
    {
     "name": "stdout",
     "output_type": "stream",
     "text": [
      "volume      776117.742572\n",
      "quote_av     47926.501764\n",
      "dtype: float64\n"
     ]
    }
   ],
   "source": [
    "print(train_x_df[['volume', 'quote_av']].mean())"
   ]
  },
  {
   "cell_type": "code",
   "execution_count": 46,
   "metadata": {},
   "outputs": [
    {
     "name": "stdout",
     "output_type": "stream",
     "text": [
      "tb_base_av     370669.804412\n",
      "tb_quote_av     23687.288688\n",
      "dtype: float64\n"
     ]
    }
   ],
   "source": [
    "print(train_x_df[['tb_base_av', 'tb_quote_av']].mean())"
   ]
  },
  {
   "cell_type": "markdown",
   "metadata": {},
   "source": [
    "vloum: 원화 quote_av: 코인화 인것이 다르다.  \n",
    "-> 비트코인이 얼마나 거래되었는지/ 몇번 주문을 했는지(얼만큼의 거래인지는 모르지만)"
   ]
  },
  {
   "cell_type": "markdown",
   "metadata": {},
   "source": [
    "## 데이터 전처리"
   ]
  },
  {
   "cell_type": "code",
   "execution_count": 4,
   "metadata": {},
   "outputs": [],
   "source": [
    "# notebook을 실행한 브라우저에서 바로 그림을 볼 수 있게 해주는 라인\n",
    "%matplotlib inline\n",
    "\n",
    "# os 패키지를 통해 현재 디렉토리 위치를 변경하고, read_csv를 더 편리하게 함\n",
    "import os\n",
    "os.getcwd() # 현재 디렉토리 파악\n",
    "os.chdir(r\"C:\\Users\\yeahaluu\\[STUDY] Data Science\\Dacon_bitcoin_경진대회\\open\") # 불러오고 싶은 파일이 위치한 주소를 ___에 입력"
   ]
  },
  {
   "cell_type": "code",
   "execution_count": 5,
   "metadata": {},
   "outputs": [],
   "source": [
    "# matplotlib가 한글폰트 지원하지 않아 깨지는 현상 처리\n",
    "import matplotlib.pyplot as plt \n",
    "import platform                \n",
    "\n",
    "# 웬만하면 해주는 것이 좋다.\n",
    "from matplotlib import font_manager, rc\n",
    "plt.rcParams['axes.unicode_minus']= False\n",
    "\n",
    "if platform.system() == 'Darwin': # 맥os 사용자의 경우에\n",
    "    plt.style.use('seaborn-darkgrid') \n",
    "    rc('font', family = 'AppleGothic')\n",
    "    \n",
    "elif platform.system() == 'Windows':# 윈도우 사용자의 경우에\n",
    "    path = 'c:/Windows/Fonts/malgun.ttf'\n",
    "    font_name = font_manager.FontProperties(fname=path).get_name()\n",
    "    plt.style.use('seaborn-darkgrid') # https://python-graph-gallery.com/199-matplotlib-style-sheets/\n",
    "    rc('font', family=font_name)"
   ]
  },
  {
   "cell_type": "code",
   "execution_count": 6,
   "metadata": {},
   "outputs": [
    {
     "data": {
      "text/html": [
       "<div>\n",
       "<style scoped>\n",
       "    .dataframe tbody tr th:only-of-type {\n",
       "        vertical-align: middle;\n",
       "    }\n",
       "\n",
       "    .dataframe tbody tr th {\n",
       "        vertical-align: top;\n",
       "    }\n",
       "\n",
       "    .dataframe thead th {\n",
       "        text-align: right;\n",
       "    }\n",
       "</style>\n",
       "<table border=\"1\" class=\"dataframe\">\n",
       "  <thead>\n",
       "    <tr style=\"text-align: right;\">\n",
       "      <th></th>\n",
       "      <th>sample_id</th>\n",
       "      <th>time</th>\n",
       "      <th>coin_index</th>\n",
       "      <th>open</th>\n",
       "      <th>high</th>\n",
       "      <th>low</th>\n",
       "      <th>close</th>\n",
       "      <th>volume</th>\n",
       "      <th>quote_av</th>\n",
       "      <th>trades</th>\n",
       "      <th>tb_base_av</th>\n",
       "      <th>tb_quote_av</th>\n",
       "    </tr>\n",
       "  </thead>\n",
       "  <tbody>\n",
       "    <tr>\n",
       "      <th>0</th>\n",
       "      <td>0</td>\n",
       "      <td>0</td>\n",
       "      <td>9</td>\n",
       "      <td>0.983614</td>\n",
       "      <td>0.983614</td>\n",
       "      <td>0.983128</td>\n",
       "      <td>0.983246</td>\n",
       "      <td>0.001334</td>\n",
       "      <td>10.650987</td>\n",
       "      <td>0.009855</td>\n",
       "      <td>0.000848</td>\n",
       "      <td>6.771755</td>\n",
       "    </tr>\n",
       "    <tr>\n",
       "      <th>1</th>\n",
       "      <td>0</td>\n",
       "      <td>1</td>\n",
       "      <td>9</td>\n",
       "      <td>0.983245</td>\n",
       "      <td>0.983612</td>\n",
       "      <td>0.982453</td>\n",
       "      <td>0.982693</td>\n",
       "      <td>0.001425</td>\n",
       "      <td>11.375689</td>\n",
       "      <td>0.016137</td>\n",
       "      <td>0.000697</td>\n",
       "      <td>5.565188</td>\n",
       "    </tr>\n",
       "    <tr>\n",
       "      <th>2</th>\n",
       "      <td>0</td>\n",
       "      <td>2</td>\n",
       "      <td>9</td>\n",
       "      <td>0.982694</td>\n",
       "      <td>0.983612</td>\n",
       "      <td>0.982403</td>\n",
       "      <td>0.983002</td>\n",
       "      <td>0.001542</td>\n",
       "      <td>12.301942</td>\n",
       "      <td>0.014166</td>\n",
       "      <td>0.000905</td>\n",
       "      <td>7.225459</td>\n",
       "    </tr>\n",
       "    <tr>\n",
       "      <th>3</th>\n",
       "      <td>0</td>\n",
       "      <td>3</td>\n",
       "      <td>9</td>\n",
       "      <td>0.983009</td>\n",
       "      <td>0.984848</td>\n",
       "      <td>0.983009</td>\n",
       "      <td>0.984486</td>\n",
       "      <td>0.002520</td>\n",
       "      <td>20.134695</td>\n",
       "      <td>0.021557</td>\n",
       "      <td>0.001171</td>\n",
       "      <td>9.353000</td>\n",
       "    </tr>\n",
       "    <tr>\n",
       "      <th>4</th>\n",
       "      <td>0</td>\n",
       "      <td>4</td>\n",
       "      <td>9</td>\n",
       "      <td>0.984233</td>\n",
       "      <td>0.984606</td>\n",
       "      <td>0.983612</td>\n",
       "      <td>0.984164</td>\n",
       "      <td>0.002818</td>\n",
       "      <td>22.515448</td>\n",
       "      <td>0.021434</td>\n",
       "      <td>0.001799</td>\n",
       "      <td>14.372534</td>\n",
       "    </tr>\n",
       "  </tbody>\n",
       "</table>\n",
       "</div>"
      ],
      "text/plain": [
       "   sample_id  time  coin_index      open      high       low     close  \\\n",
       "0          0     0           9  0.983614  0.983614  0.983128  0.983246   \n",
       "1          0     1           9  0.983245  0.983612  0.982453  0.982693   \n",
       "2          0     2           9  0.982694  0.983612  0.982403  0.983002   \n",
       "3          0     3           9  0.983009  0.984848  0.983009  0.984486   \n",
       "4          0     4           9  0.984233  0.984606  0.983612  0.984164   \n",
       "\n",
       "     volume   quote_av    trades  tb_base_av  tb_quote_av  \n",
       "0  0.001334  10.650987  0.009855    0.000848     6.771755  \n",
       "1  0.001425  11.375689  0.016137    0.000697     5.565188  \n",
       "2  0.001542  12.301942  0.014166    0.000905     7.225459  \n",
       "3  0.002520  20.134695  0.021557    0.001171     9.353000  \n",
       "4  0.002818  22.515448  0.021434    0.001799    14.372534  "
      ]
     },
     "execution_count": 6,
     "metadata": {},
     "output_type": "execute_result"
    }
   ],
   "source": [
    "train_x_df = pd.read_csv(\"train_x_df.csv\", encoding='utf-8')\n",
    "train_x_df.head()"
   ]
  },
  {
   "cell_type": "code",
   "execution_count": 7,
   "metadata": {
    "scrolled": true
   },
   "outputs": [
    {
     "data": {
      "text/plain": [
       "(10572180, 12)"
      ]
     },
     "execution_count": 7,
     "metadata": {},
     "output_type": "execute_result"
    }
   ],
   "source": [
    "# 데이터 shape파악 (행과 열의 개수)\n",
    "train_x_df.shape"
   ]
  },
  {
   "cell_type": "code",
   "execution_count": 8,
   "metadata": {
    "scrolled": true
   },
   "outputs": [
    {
     "data": {
      "text/html": [
       "<div>\n",
       "<style scoped>\n",
       "    .dataframe tbody tr th:only-of-type {\n",
       "        vertical-align: middle;\n",
       "    }\n",
       "\n",
       "    .dataframe tbody tr th {\n",
       "        vertical-align: top;\n",
       "    }\n",
       "\n",
       "    .dataframe thead th {\n",
       "        text-align: right;\n",
       "    }\n",
       "</style>\n",
       "<table border=\"1\" class=\"dataframe\">\n",
       "  <thead>\n",
       "    <tr style=\"text-align: right;\">\n",
       "      <th></th>\n",
       "      <th>sample_id</th>\n",
       "      <th>time</th>\n",
       "      <th>coin_index</th>\n",
       "      <th>open</th>\n",
       "      <th>high</th>\n",
       "      <th>low</th>\n",
       "      <th>close</th>\n",
       "      <th>volume</th>\n",
       "      <th>quote_av</th>\n",
       "      <th>trades</th>\n",
       "      <th>tb_base_av</th>\n",
       "      <th>tb_quote_av</th>\n",
       "    </tr>\n",
       "  </thead>\n",
       "  <tbody>\n",
       "    <tr>\n",
       "      <th>count</th>\n",
       "      <td>1.057218e+07</td>\n",
       "      <td>1.057218e+07</td>\n",
       "      <td>1.057218e+07</td>\n",
       "      <td>1.057218e+07</td>\n",
       "      <td>1.057218e+07</td>\n",
       "      <td>1.057218e+07</td>\n",
       "      <td>1.057218e+07</td>\n",
       "      <td>1.057218e+07</td>\n",
       "      <td>1.057218e+07</td>\n",
       "      <td>1.057218e+07</td>\n",
       "      <td>1.057218e+07</td>\n",
       "      <td>1.057218e+07</td>\n",
       "    </tr>\n",
       "    <tr>\n",
       "      <th>mean</th>\n",
       "      <td>3.830000e+03</td>\n",
       "      <td>6.895000e+02</td>\n",
       "      <td>5.456729e+00</td>\n",
       "      <td>1.000650e+00</td>\n",
       "      <td>1.001450e+00</td>\n",
       "      <td>9.998227e-01</td>\n",
       "      <td>1.000642e+00</td>\n",
       "      <td>7.761177e+05</td>\n",
       "      <td>4.792650e+04</td>\n",
       "      <td>1.261575e+02</td>\n",
       "      <td>3.706698e+05</td>\n",
       "      <td>2.368729e+04</td>\n",
       "    </tr>\n",
       "    <tr>\n",
       "      <th>std</th>\n",
       "      <td>2.211540e+03</td>\n",
       "      <td>3.983716e+02</td>\n",
       "      <td>2.943867e+00</td>\n",
       "      <td>4.027305e-02</td>\n",
       "      <td>4.032254e-02</td>\n",
       "      <td>4.022103e-02</td>\n",
       "      <td>4.024325e-02</td>\n",
       "      <td>9.201730e+06</td>\n",
       "      <td>2.461396e+05</td>\n",
       "      <td>5.192760e+02</td>\n",
       "      <td>5.188063e+06</td>\n",
       "      <td>1.279145e+05</td>\n",
       "    </tr>\n",
       "    <tr>\n",
       "      <th>min</th>\n",
       "      <td>0.000000e+00</td>\n",
       "      <td>0.000000e+00</td>\n",
       "      <td>0.000000e+00</td>\n",
       "      <td>8.903663e-02</td>\n",
       "      <td>5.540227e-01</td>\n",
       "      <td>8.903663e-02</td>\n",
       "      <td>5.540227e-01</td>\n",
       "      <td>0.000000e+00</td>\n",
       "      <td>0.000000e+00</td>\n",
       "      <td>0.000000e+00</td>\n",
       "      <td>0.000000e+00</td>\n",
       "      <td>0.000000e+00</td>\n",
       "    </tr>\n",
       "    <tr>\n",
       "      <th>25%</th>\n",
       "      <td>1.915000e+03</td>\n",
       "      <td>3.447500e+02</td>\n",
       "      <td>4.000000e+00</td>\n",
       "      <td>9.865683e-01</td>\n",
       "      <td>9.873150e-01</td>\n",
       "      <td>9.858038e-01</td>\n",
       "      <td>9.865824e-01</td>\n",
       "      <td>6.036940e-02</td>\n",
       "      <td>3.364670e+01</td>\n",
       "      <td>8.322930e-02</td>\n",
       "      <td>6.927575e-03</td>\n",
       "      <td>1.156383e+01</td>\n",
       "    </tr>\n",
       "    <tr>\n",
       "      <th>50%</th>\n",
       "      <td>3.830000e+03</td>\n",
       "      <td>6.895000e+02</td>\n",
       "      <td>6.000000e+00</td>\n",
       "      <td>1.000000e+00</td>\n",
       "      <td>1.000500e+00</td>\n",
       "      <td>9.993641e-01</td>\n",
       "      <td>9.999900e-01</td>\n",
       "      <td>3.708659e+00</td>\n",
       "      <td>3.692633e+02</td>\n",
       "      <td>8.632804e-01</td>\n",
       "      <td>1.167656e+00</td>\n",
       "      <td>1.318855e+02</td>\n",
       "    </tr>\n",
       "    <tr>\n",
       "      <th>75%</th>\n",
       "      <td>5.745000e+03</td>\n",
       "      <td>1.034250e+03</td>\n",
       "      <td>8.000000e+00</td>\n",
       "      <td>1.012913e+00</td>\n",
       "      <td>1.013659e+00</td>\n",
       "      <td>1.012141e+00</td>\n",
       "      <td>1.012891e+00</td>\n",
       "      <td>4.461639e+04</td>\n",
       "      <td>1.351256e+04</td>\n",
       "      <td>5.891339e+01</td>\n",
       "      <td>9.740486e+03</td>\n",
       "      <td>5.306334e+03</td>\n",
       "    </tr>\n",
       "    <tr>\n",
       "      <th>max</th>\n",
       "      <td>7.660000e+03</td>\n",
       "      <td>1.379000e+03</td>\n",
       "      <td>9.000000e+00</td>\n",
       "      <td>2.066901e+00</td>\n",
       "      <td>4.451831e+00</td>\n",
       "      <td>2.066901e+00</td>\n",
       "      <td>2.066901e+00</td>\n",
       "      <td>7.398036e+09</td>\n",
       "      <td>4.957759e+07</td>\n",
       "      <td>6.257862e+04</td>\n",
       "      <td>7.340513e+09</td>\n",
       "      <td>2.320023e+07</td>\n",
       "    </tr>\n",
       "  </tbody>\n",
       "</table>\n",
       "</div>"
      ],
      "text/plain": [
       "          sample_id          time    coin_index          open          high  \\\n",
       "count  1.057218e+07  1.057218e+07  1.057218e+07  1.057218e+07  1.057218e+07   \n",
       "mean   3.830000e+03  6.895000e+02  5.456729e+00  1.000650e+00  1.001450e+00   \n",
       "std    2.211540e+03  3.983716e+02  2.943867e+00  4.027305e-02  4.032254e-02   \n",
       "min    0.000000e+00  0.000000e+00  0.000000e+00  8.903663e-02  5.540227e-01   \n",
       "25%    1.915000e+03  3.447500e+02  4.000000e+00  9.865683e-01  9.873150e-01   \n",
       "50%    3.830000e+03  6.895000e+02  6.000000e+00  1.000000e+00  1.000500e+00   \n",
       "75%    5.745000e+03  1.034250e+03  8.000000e+00  1.012913e+00  1.013659e+00   \n",
       "max    7.660000e+03  1.379000e+03  9.000000e+00  2.066901e+00  4.451831e+00   \n",
       "\n",
       "                low         close        volume      quote_av        trades  \\\n",
       "count  1.057218e+07  1.057218e+07  1.057218e+07  1.057218e+07  1.057218e+07   \n",
       "mean   9.998227e-01  1.000642e+00  7.761177e+05  4.792650e+04  1.261575e+02   \n",
       "std    4.022103e-02  4.024325e-02  9.201730e+06  2.461396e+05  5.192760e+02   \n",
       "min    8.903663e-02  5.540227e-01  0.000000e+00  0.000000e+00  0.000000e+00   \n",
       "25%    9.858038e-01  9.865824e-01  6.036940e-02  3.364670e+01  8.322930e-02   \n",
       "50%    9.993641e-01  9.999900e-01  3.708659e+00  3.692633e+02  8.632804e-01   \n",
       "75%    1.012141e+00  1.012891e+00  4.461639e+04  1.351256e+04  5.891339e+01   \n",
       "max    2.066901e+00  2.066901e+00  7.398036e+09  4.957759e+07  6.257862e+04   \n",
       "\n",
       "         tb_base_av   tb_quote_av  \n",
       "count  1.057218e+07  1.057218e+07  \n",
       "mean   3.706698e+05  2.368729e+04  \n",
       "std    5.188063e+06  1.279145e+05  \n",
       "min    0.000000e+00  0.000000e+00  \n",
       "25%    6.927575e-03  1.156383e+01  \n",
       "50%    1.167656e+00  1.318855e+02  \n",
       "75%    9.740486e+03  5.306334e+03  \n",
       "max    7.340513e+09  2.320023e+07  "
      ]
     },
     "execution_count": 8,
     "metadata": {},
     "output_type": "execute_result"
    }
   ],
   "source": [
    "# 데이터 기초통계량 파악\n",
    "train_x_df.describe()"
   ]
  },
  {
   "cell_type": "code",
   "execution_count": 9,
   "metadata": {},
   "outputs": [
    {
     "data": {
      "text/plain": [
       "sample_id      10572180\n",
       "time           10572180\n",
       "coin_index     10572180\n",
       "open           10572180\n",
       "high           10572180\n",
       "low            10572180\n",
       "close          10572180\n",
       "volume         10572180\n",
       "quote_av       10572180\n",
       "trades         10572180\n",
       "tb_base_av     10572180\n",
       "tb_quote_av    10572180\n",
       "dtype: int64"
      ]
     },
     "execution_count": 9,
     "metadata": {},
     "output_type": "execute_result"
    }
   ],
   "source": [
    "train_x_df.count()"
   ]
  },
  {
   "cell_type": "code",
   "execution_count": 10,
   "metadata": {},
   "outputs": [
    {
     "data": {
      "text/html": [
       "<div>\n",
       "<style scoped>\n",
       "    .dataframe tbody tr th:only-of-type {\n",
       "        vertical-align: middle;\n",
       "    }\n",
       "\n",
       "    .dataframe tbody tr th {\n",
       "        vertical-align: top;\n",
       "    }\n",
       "\n",
       "    .dataframe thead th {\n",
       "        text-align: right;\n",
       "    }\n",
       "</style>\n",
       "<table border=\"1\" class=\"dataframe\">\n",
       "  <thead>\n",
       "    <tr style=\"text-align: right;\">\n",
       "      <th></th>\n",
       "      <th>nan_count</th>\n",
       "    </tr>\n",
       "  </thead>\n",
       "  <tbody>\n",
       "    <tr>\n",
       "      <th>sample_id</th>\n",
       "      <td>0</td>\n",
       "    </tr>\n",
       "    <tr>\n",
       "      <th>time</th>\n",
       "      <td>0</td>\n",
       "    </tr>\n",
       "    <tr>\n",
       "      <th>coin_index</th>\n",
       "      <td>0</td>\n",
       "    </tr>\n",
       "    <tr>\n",
       "      <th>open</th>\n",
       "      <td>0</td>\n",
       "    </tr>\n",
       "    <tr>\n",
       "      <th>high</th>\n",
       "      <td>0</td>\n",
       "    </tr>\n",
       "    <tr>\n",
       "      <th>low</th>\n",
       "      <td>0</td>\n",
       "    </tr>\n",
       "    <tr>\n",
       "      <th>close</th>\n",
       "      <td>0</td>\n",
       "    </tr>\n",
       "    <tr>\n",
       "      <th>volume</th>\n",
       "      <td>0</td>\n",
       "    </tr>\n",
       "    <tr>\n",
       "      <th>quote_av</th>\n",
       "      <td>0</td>\n",
       "    </tr>\n",
       "    <tr>\n",
       "      <th>trades</th>\n",
       "      <td>0</td>\n",
       "    </tr>\n",
       "    <tr>\n",
       "      <th>tb_base_av</th>\n",
       "      <td>0</td>\n",
       "    </tr>\n",
       "    <tr>\n",
       "      <th>tb_quote_av</th>\n",
       "      <td>0</td>\n",
       "    </tr>\n",
       "  </tbody>\n",
       "</table>\n",
       "</div>"
      ],
      "text/plain": [
       "             nan_count\n",
       "sample_id            0\n",
       "time                 0\n",
       "coin_index           0\n",
       "open                 0\n",
       "high                 0\n",
       "low                  0\n",
       "close                0\n",
       "volume               0\n",
       "quote_av             0\n",
       "trades               0\n",
       "tb_base_av           0\n",
       "tb_quote_av          0"
      ]
     },
     "execution_count": 10,
     "metadata": {},
     "output_type": "execute_result"
    }
   ],
   "source": [
    "# 결측치 개수 파악\n",
    "# 셀 실행 결과를 데이터프레임으로 보고 싶을 때 to_frame()과 pd.DataFrame() 두 가지를 사용 가능\n",
    "train_x_df.isnull().sum().to_frame('nan_count')"
   ]
  },
  {
   "cell_type": "markdown",
   "metadata": {},
   "source": [
    "결측치가 0이라니...!  \n",
    "아무튼 결측치에 대한 전처리 pass"
   ]
  },
  {
   "cell_type": "code",
   "execution_count": 11,
   "metadata": {},
   "outputs": [
    {
     "data": {
      "text/plain": [
       "sample_id        int64\n",
       "time             int64\n",
       "coin_index       int64\n",
       "open           float64\n",
       "high           float64\n",
       "low            float64\n",
       "close          float64\n",
       "volume         float64\n",
       "quote_av       float64\n",
       "trades         float64\n",
       "tb_base_av     float64\n",
       "tb_quote_av    float64\n",
       "dtype: object"
      ]
     },
     "execution_count": 11,
     "metadata": {},
     "output_type": "execute_result"
    }
   ],
   "source": [
    "# 변수 타입 파악 (굳이 안 해도 될지도...누가봐도 int or float)\n",
    "train_x_df.dtypes"
   ]
  },
  {
   "cell_type": "markdown",
   "metadata": {},
   "source": [
    "## 데이터 Segmentation  \n",
    "  \n",
    "- 식별(sample_id, coin_index)  \n",
    "- 시간(time)\n",
    "- 가격(open, high, low, close)\n",
    "- 거래, 주문량들(volume, quote_av, trades, tb_base_av, tb_quote_av)\n",
    "  \n",
    "  \n",
    "### 가설\n",
    "- 한 타임 전의 거래건수, 거래량(volume), 주문량(quote_av)이 늘어나면 그 다음 타임의 가격(high, open 등)이 오르지 않을까?\n",
    "- 시계열 데이터의 일정한 추세가 있지 않을까? 그 추세를 이용해 코인을 사고 팔면 돈을 벌 수 있지 않을까?\n",
    "- 그 코인의 high - open 을 구해 이정도쯤 올랐을때 상한가라고 추측해서 팔면 괜찮지 않을까?\n",
    "- 양을 어떻게 정하지? --> 으으.. 이거 추세분석"
   ]
  },
  {
   "cell_type": "code",
   "execution_count": 39,
   "metadata": {},
   "outputs": [
    {
     "data": {
      "image/png": "[encoded data removed]",
      "text/plain": [
       "<Figure size 576x432 with 2 Axes>"
      ]
     },
     "metadata": {},
     "output_type": "display_data"
    }
   ],
   "source": [
    "# 상관관계분석\n",
    "# 전체 데이터셋 히트맵\n",
    "def draw_corrmat(df):\n",
    "  y_corrmat = df.corr()\n",
    "  f, ax = plt.subplots(figsize=(8,6))\n",
    "  sns.heatmap(y_corrmat, vmax=.8, annot=True, fmt='.1f', square=True);\n",
    "  \n",
    "draw_corrmat(coin9_train_x_df)"
   ]
  },
  {
   "cell_type": "code",
   "execution_count": null,
   "metadata": {},
   "outputs": [],
   "source": []
  },
  {
   "cell_type": "markdown",
   "metadata": {},
   "source": []
  },
  {
   "cell_type": "markdown",
   "metadata": {},
   "source": [
    "## volume 데이터에 대해?"
   ]
  },
  {
   "cell_type": "code",
   "execution_count": 17,
   "metadata": {},
   "outputs": [
    {
     "data": {
      "text/plain": [
       "count    1.057218e+07\n",
       "mean     7.761177e+05\n",
       "std      9.201730e+06\n",
       "min      0.000000e+00\n",
       "25%      6.036940e-02\n",
       "50%      3.708659e+00\n",
       "75%      4.461639e+04\n",
       "max      7.398036e+09\n",
       "Name: volume, dtype: float64"
      ]
     },
     "execution_count": 17,
     "metadata": {},
     "output_type": "execute_result"
    }
   ],
   "source": [
    "train_x_df['volume'].describe()"
   ]
  },
  {
   "cell_type": "code",
   "execution_count": null,
   "metadata": {},
   "outputs": [],
   "source": []
  },
  {
   "cell_type": "code",
   "execution_count": 48,
   "metadata": {},
   "outputs": [
    {
     "ename": "NameError",
     "evalue": "name 'smaple0_train_x_df' is not defined",
     "output_type": "error",
     "traceback": [
      "\u001b[1;31m---------------------------------------------------------------------------\u001b[0m",
      "\u001b[1;31mNameError\u001b[0m                                 Traceback (most recent call last)",
      "\u001b[1;32m<ipython-input-48-e60add071605>\u001b[0m in \u001b[0;36m<module>\u001b[1;34m\u001b[0m\n\u001b[0;32m      2\u001b[0m \u001b[0msample0\u001b[0m \u001b[1;33m=\u001b[0m \u001b[0mtrain_x_df\u001b[0m\u001b[1;33m[\u001b[0m\u001b[1;34m'sample_id'\u001b[0m\u001b[1;33m]\u001b[0m\u001b[1;33m==\u001b[0m\u001b[1;36m0\u001b[0m\u001b[1;33m\u001b[0m\u001b[1;33m\u001b[0m\u001b[0m\n\u001b[0;32m      3\u001b[0m \u001b[0msample0_train_x_df\u001b[0m \u001b[1;33m=\u001b[0m \u001b[0mtrain_x_df\u001b[0m\u001b[1;33m[\u001b[0m\u001b[0msample0\u001b[0m\u001b[1;33m]\u001b[0m\u001b[1;33m\u001b[0m\u001b[1;33m\u001b[0m\u001b[0m\n\u001b[1;32m----> 4\u001b[1;33m \u001b[0msmaple0_train_x_df\u001b[0m\u001b[1;33m.\u001b[0m\u001b[0mhead\u001b[0m\u001b[1;33m(\u001b[0m\u001b[1;33m)\u001b[0m\u001b[1;33m\u001b[0m\u001b[1;33m\u001b[0m\u001b[0m\n\u001b[0m",
      "\u001b[1;31mNameError\u001b[0m: name 'smaple0_train_x_df' is not defined"
     ]
    }
   ],
   "source": [
    "# coin_index = 9 만 들고오기\n",
    "sample0 = train_x_df['sample_id']==0\n",
    "sample0_train_x_df = train_x_df[sample0]\n",
    "smaple0_train_x_df.head()"
   ]
  },
  {
   "cell_type": "code",
   "execution_count": 50,
   "metadata": {},
   "outputs": [
    {
     "data": {
      "text/html": [
       "<div>\n",
       "<style scoped>\n",
       "    .dataframe tbody tr th:only-of-type {\n",
       "        vertical-align: middle;\n",
       "    }\n",
       "\n",
       "    .dataframe tbody tr th {\n",
       "        vertical-align: top;\n",
       "    }\n",
       "\n",
       "    .dataframe thead th {\n",
       "        text-align: right;\n",
       "    }\n",
       "</style>\n",
       "<table border=\"1\" class=\"dataframe\">\n",
       "  <thead>\n",
       "    <tr style=\"text-align: right;\">\n",
       "      <th></th>\n",
       "      <th>sample_id</th>\n",
       "      <th>time</th>\n",
       "      <th>coin_index</th>\n",
       "      <th>open</th>\n",
       "      <th>high</th>\n",
       "      <th>low</th>\n",
       "      <th>close</th>\n",
       "      <th>volume</th>\n",
       "      <th>quote_av</th>\n",
       "      <th>trades</th>\n",
       "      <th>tb_base_av</th>\n",
       "      <th>tb_quote_av</th>\n",
       "    </tr>\n",
       "  </thead>\n",
       "  <tbody>\n",
       "    <tr>\n",
       "      <th>1375</th>\n",
       "      <td>0</td>\n",
       "      <td>1375</td>\n",
       "      <td>9</td>\n",
       "      <td>0.999015</td>\n",
       "      <td>0.999388</td>\n",
       "      <td>0.998400</td>\n",
       "      <td>0.998400</td>\n",
       "      <td>0.002577</td>\n",
       "      <td>20.899395</td>\n",
       "      <td>0.017492</td>\n",
       "      <td>0.001371</td>\n",
       "      <td>11.117771</td>\n",
       "    </tr>\n",
       "    <tr>\n",
       "      <th>1376</th>\n",
       "      <td>0</td>\n",
       "      <td>1376</td>\n",
       "      <td>9</td>\n",
       "      <td>0.998400</td>\n",
       "      <td>0.999260</td>\n",
       "      <td>0.998400</td>\n",
       "      <td>0.999016</td>\n",
       "      <td>0.001256</td>\n",
       "      <td>10.188805</td>\n",
       "      <td>0.011333</td>\n",
       "      <td>0.000556</td>\n",
       "      <td>4.510879</td>\n",
       "    </tr>\n",
       "    <tr>\n",
       "      <th>1377</th>\n",
       "      <td>0</td>\n",
       "      <td>1377</td>\n",
       "      <td>9</td>\n",
       "      <td>0.999018</td>\n",
       "      <td>0.999629</td>\n",
       "      <td>0.998936</td>\n",
       "      <td>0.999629</td>\n",
       "      <td>0.002902</td>\n",
       "      <td>23.543552</td>\n",
       "      <td>0.014289</td>\n",
       "      <td>0.001761</td>\n",
       "      <td>14.289263</td>\n",
       "    </tr>\n",
       "    <tr>\n",
       "      <th>1378</th>\n",
       "      <td>0</td>\n",
       "      <td>1378</td>\n",
       "      <td>9</td>\n",
       "      <td>0.999629</td>\n",
       "      <td>1.000116</td>\n",
       "      <td>0.999143</td>\n",
       "      <td>1.000000</td>\n",
       "      <td>0.004383</td>\n",
       "      <td>35.568905</td>\n",
       "      <td>0.020941</td>\n",
       "      <td>0.002810</td>\n",
       "      <td>22.806458</td>\n",
       "    </tr>\n",
       "    <tr>\n",
       "      <th>1379</th>\n",
       "      <td>0</td>\n",
       "      <td>1379</td>\n",
       "      <td>9</td>\n",
       "      <td>1.000000</td>\n",
       "      <td>1.000123</td>\n",
       "      <td>0.999388</td>\n",
       "      <td>0.999998</td>\n",
       "      <td>0.001269</td>\n",
       "      <td>10.297554</td>\n",
       "      <td>0.014782</td>\n",
       "      <td>0.000909</td>\n",
       "      <td>7.376117</td>\n",
       "    </tr>\n",
       "  </tbody>\n",
       "</table>\n",
       "</div>"
      ],
      "text/plain": [
       "      sample_id  time  coin_index      open      high       low     close  \\\n",
       "1375          0  1375           9  0.999015  0.999388  0.998400  0.998400   \n",
       "1376          0  1376           9  0.998400  0.999260  0.998400  0.999016   \n",
       "1377          0  1377           9  0.999018  0.999629  0.998936  0.999629   \n",
       "1378          0  1378           9  0.999629  1.000116  0.999143  1.000000   \n",
       "1379          0  1379           9  1.000000  1.000123  0.999388  0.999998   \n",
       "\n",
       "        volume   quote_av    trades  tb_base_av  tb_quote_av  \n",
       "1375  0.002577  20.899395  0.017492    0.001371    11.117771  \n",
       "1376  0.001256  10.188805  0.011333    0.000556     4.510879  \n",
       "1377  0.002902  23.543552  0.014289    0.001761    14.289263  \n",
       "1378  0.004383  35.568905  0.020941    0.002810    22.806458  \n",
       "1379  0.001269  10.297554  0.014782    0.000909     7.376117  "
      ]
     },
     "execution_count": 50,
     "metadata": {},
     "output_type": "execute_result"
    }
   ],
   "source": [
    "sample0_train_x_df.tail()"
   ]
  },
  {
   "cell_type": "code",
   "execution_count": 49,
   "metadata": {},
   "outputs": [
    {
     "data": {
      "text/plain": [
       "sample_id      1380\n",
       "time           1380\n",
       "coin_index     1380\n",
       "open           1380\n",
       "high           1380\n",
       "low            1380\n",
       "close          1380\n",
       "volume         1380\n",
       "quote_av       1380\n",
       "trades         1380\n",
       "tb_base_av     1380\n",
       "tb_quote_av    1380\n",
       "dtype: int64"
      ]
     },
     "execution_count": 49,
     "metadata": {},
     "output_type": "execute_result"
    }
   ],
   "source": [
    "sample0_train_x_df.count()"
   ]
  },
  {
   "cell_type": "code",
   "execution_count": 55,
   "metadata": {
    "scrolled": true
   },
   "outputs": [
    {
     "data": {
      "text/plain": [
       "<AxesSubplot:xlabel='time', ylabel='volume'>"
      ]
     },
     "execution_count": 55,
     "metadata": {},
     "output_type": "execute_result"
    },
    {
     "data": {
      "image/png": "[encoded data removed]",
      "text/plain": [
       "<Figure size 432x288 with 1 Axes>"
      ]
     },
     "metadata": {},
     "output_type": "display_data"
    }
   ],
   "source": [
    "# scatter plot volume/time\n",
    "var = 'time'\n",
    "data = pd.concat([coin9_train_x_df['volume'], coin9_train_x_df[var]], axis=1)\n",
    "data.plot.scatter(x=var, y='volume', ylim=(0.00001, 0.01))"
   ]
  },
  {
   "cell_type": "code",
   "execution_count": 56,
   "metadata": {},
   "outputs": [
    {
     "data": {
      "image/png": "[encoded data removed]",
      "text/plain": [
       "<Figure size 576x432 with 1 Axes>"
      ]
     },
     "metadata": {},
     "output_type": "display_data"
    }
   ],
   "source": [
    "#box plot overallqual/saleprice\n",
    "var = 'time'\n",
    "data = pd.concat([coin9_train_x_df['volume'], coin9_train_x_df[var]], axis=1)\n",
    "f, ax = plt.subplots(figsize=(8, 6))\n",
    "fig = sns.boxplot(x=var, y=\"volume\", data=data)\n",
    "fig.axis(ymin=0.0001, ymax=0.1);"
   ]
  },
  {
   "cell_type": "code",
   "execution_count": 43,
   "metadata": {},
   "outputs": [
    {
     "data": {
      "image/png": "[encoded data removed]",
      "text/plain": [
       "<Figure size 432x288 with 1 Axes>"
      ]
     },
     "metadata": {},
     "output_type": "display_data"
    }
   ],
   "source": [
    "x_values = coin9_train_x_df['time']\n",
    "y_values = coin9_train_x_df['volume']\n",
    "plt.plot(x_values, y_values)\n",
    "plt.show()"
   ]
  },
  {
   "cell_type": "code",
   "execution_count": null,
   "metadata": {
    "scrolled": true
   },
   "outputs": [],
   "source": []
  },
  {
   "cell_type": "markdown",
   "metadata": {},
   "source": [
    "https://yganalyst.github.io/data_handling/Pd_5/  \n"
   ]
  }
 ],
 "metadata": {
  "kernelspec": {
   "display_name": "Python 3",
   "language": "python",
   "name": "python3"
  },
  "language_info": {
   "codemirror_mode": {
    "name": "ipython",
    "version": 3
   },
   "file_extension": ".py",
   "mimetype": "text/x-python",
   "name": "python",
   "nbconvert_exporter": "python",
   "pygments_lexer": "ipython3",
   "version": "3.8.5"
  },
  "toc": {
   "base_numbering": 1,
   "nav_menu": {},
   "number_sections": true,
   "sideBar": true,
   "skip_h1_title": false,
   "title_cell": "Table of Contents",
   "title_sidebar": "Contents",
   "toc_cell": false,
   "toc_position": {},
   "toc_section_display": true,
   "toc_window_display": false
  },
  "varInspector": {
   "cols": {
    "lenName": 16,
    "lenType": 16,
    "lenVar": 40
   },
   "kernels_config": {
    "python": {
     "delete_cmd_postfix": "",
     "delete_cmd_prefix": "del ",
     "library": "var_list.py",
     "varRefreshCmd": "print(var_dic_list())"
    },
    "r": {
     "delete_cmd_postfix": ") ",
     "delete_cmd_prefix": "rm(",
     "library": "var_list.r",
     "varRefreshCmd": "cat(var_dic_list()) "
    }
   },
   "types_to_exclude": [
    "module",
    "function",
    "builtin_function_or_method",
    "instance",
    "_Feature"
   ],
   "window_display": false
  }
 },
 "nbformat": 4,
 "nbformat_minor": 4
}
