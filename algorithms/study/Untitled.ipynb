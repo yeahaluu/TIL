{
 "cells": [
  {
   "cell_type": "markdown",
   "metadata": {},
   "source": [
    "알고리즘\n",
    "# 체육복"
   ]
  },
  {
   "cell_type": "code",
   "execution_count": 40,
   "metadata": {},
   "outputs": [
    {
     "ename": "ValueError",
     "evalue": "list.remove(x): x not in list",
     "output_type": "error",
     "traceback": [
      "\u001b[1;31m---------------------------------------------------------------------------\u001b[0m",
      "\u001b[1;31mValueError\u001b[0m                                Traceback (most recent call last)",
      "\u001b[1;32m<ipython-input-40-ef7e3e244624>\u001b[0m in \u001b[0;36m<module>\u001b[1;34m\u001b[0m\n\u001b[0;32m     20\u001b[0m     \u001b[1;32mreturn\u001b[0m \u001b[0manswer\u001b[0m\u001b[1;33m\u001b[0m\u001b[1;33m\u001b[0m\u001b[0m\n\u001b[0;32m     21\u001b[0m \u001b[1;33m\u001b[0m\u001b[0m\n\u001b[1;32m---> 22\u001b[1;33m \u001b[0msolution\u001b[0m\u001b[1;33m(\u001b[0m\u001b[1;36m5\u001b[0m\u001b[1;33m,\u001b[0m \u001b[1;33m[\u001b[0m\u001b[1;36m1\u001b[0m\u001b[1;33m,\u001b[0m \u001b[1;36m3\u001b[0m\u001b[1;33m]\u001b[0m\u001b[1;33m,\u001b[0m\u001b[1;33m[\u001b[0m\u001b[1;36m1\u001b[0m\u001b[1;33m,\u001b[0m \u001b[1;36m2\u001b[0m\u001b[1;33m,\u001b[0m \u001b[1;36m5\u001b[0m\u001b[1;33m]\u001b[0m\u001b[1;33m)\u001b[0m\u001b[1;33m\u001b[0m\u001b[1;33m\u001b[0m\u001b[0m\n\u001b[0m",
      "\u001b[1;32m<ipython-input-40-ef7e3e244624>\u001b[0m in \u001b[0;36msolution\u001b[1;34m(n, lost, reserve)\u001b[0m\n\u001b[0;32m      6\u001b[0m         \u001b[1;32mfor\u001b[0m \u001b[0mj\u001b[0m\u001b[1;33m,\u001b[0m \u001b[0mreserve_student\u001b[0m \u001b[1;32min\u001b[0m \u001b[0menumerate\u001b[0m\u001b[1;33m(\u001b[0m\u001b[0mreserve\u001b[0m\u001b[1;33m)\u001b[0m\u001b[1;33m:\u001b[0m\u001b[1;33m\u001b[0m\u001b[1;33m\u001b[0m\u001b[0m\n\u001b[0;32m      7\u001b[0m             \u001b[1;32mif\u001b[0m \u001b[0mreserve_student\u001b[0m \u001b[1;33m==\u001b[0m \u001b[0mlost_student\u001b[0m\u001b[1;33m:\u001b[0m\u001b[1;33m\u001b[0m\u001b[1;33m\u001b[0m\u001b[0m\n\u001b[1;32m----> 8\u001b[1;33m                 \u001b[0mreserve\u001b[0m\u001b[1;33m.\u001b[0m\u001b[0mremove\u001b[0m\u001b[1;33m(\u001b[0m\u001b[0mj\u001b[0m\u001b[1;33m)\u001b[0m\u001b[1;33m\u001b[0m\u001b[1;33m\u001b[0m\u001b[0m\n\u001b[0m\u001b[0;32m      9\u001b[0m                 \u001b[0mlost\u001b[0m\u001b[1;33m.\u001b[0m\u001b[0mremove\u001b[0m\u001b[1;33m(\u001b[0m\u001b[0mi\u001b[0m\u001b[1;33m)\u001b[0m\u001b[1;33m\u001b[0m\u001b[1;33m\u001b[0m\u001b[0m\n\u001b[0;32m     10\u001b[0m             \u001b[1;32melif\u001b[0m \u001b[1;33m(\u001b[0m\u001b[0mreserve_student\u001b[0m\u001b[1;33m==\u001b[0m\u001b[0mlost_student\u001b[0m\u001b[1;33m+\u001b[0m\u001b[1;36m1\u001b[0m\u001b[1;33m)\u001b[0m \u001b[1;32mor\u001b[0m \u001b[1;33m(\u001b[0m\u001b[0mreserve_student\u001b[0m\u001b[1;33m==\u001b[0m\u001b[0mlost_student\u001b[0m\u001b[1;33m-\u001b[0m\u001b[1;36m1\u001b[0m\u001b[1;33m)\u001b[0m\u001b[1;33m:\u001b[0m\u001b[1;33m\u001b[0m\u001b[1;33m\u001b[0m\u001b[0m\n",
      "\u001b[1;31mValueError\u001b[0m: list.remove(x): x not in list"
     ]
    }
   ],
   "source": [
    "def solution(n, lost, reserve):\n",
    "    # 진짜 잃어버린 사람을 찾아서 n에서 빼자\n",
    "    real_lost = 0 \n",
    "    \n",
    "    for i, lost_student in enumerate(lost):\n",
    "        for j, reserve_student in enumerate(reserve):\n",
    "            if reserve_student == lost_student:\n",
    "                reserve.remove(j)\n",
    "                lost.remove(i)\n",
    "            elif (reserve_student==lost_student+1) or (reserve_student==lost_student-1):\n",
    "                reserve.remove(j)\n",
    "                lost.remove(i)\n",
    "                print(i, j)\n",
    "            else:\n",
    "                pass\n",
    "            print(i, j, lost, reserve)\n",
    "\n",
    "            \n",
    "    answer = n - real_lost\n",
    "    return answer\n",
    "\n",
    "solution(5, [1, 3],[1, 2, 5])"
   ]
  },
  {
   "cell_type": "code",
   "execution_count": 37,
   "metadata": {},
   "outputs": [
    {
     "name": "stdout",
     "output_type": "stream",
     "text": [
      "[2, 5, 7] []\n"
     ]
    },
    {
     "data": {
      "text/plain": [
       "7"
      ]
     },
     "execution_count": 37,
     "metadata": {},
     "output_type": "execute_result"
    }
   ],
   "source": [
    "def solution(n, lost, reserve):\n",
    "    answer = 0\n",
    "    # 일단 잃어버린 사람은 못빌려줘용\n",
    "    real_reserve = list(set(reserve) - set(lost))\n",
    "    real_lost = list(set(lost) - set(reserve))\n",
    "#     real_lost = lost\n",
    "    print(real_reserve, real_lost)\n",
    "    \n",
    "    # 일어버린 사람 손\n",
    "    for i in real_lost:\n",
    "        # 빌려줄 사람 손\n",
    "        for j in real_reserve:\n",
    "            \n",
    "            # 빌려줄 사람아 잃어버린 사람 사이즈 ㄱㄴ?\n",
    "            # 일단 왼쪽 사람한테 물어봐바\n",
    "            if i - 1 == j:\n",
    "                # ㄱㄴ!\n",
    "                answer += 1\n",
    "                # 빌려줬으면 나가!\n",
    "                print(i, j)\n",
    "                real_reserve.remove(j)\n",
    "                \n",
    "                \n",
    "            # 왼쪽 사람 없대? 그럼 오른쪽 사람?\n",
    "            elif i + 1 == j:\n",
    "                # ㄱㄴ!\n",
    "                answer += 1\n",
    "                # 빌려줬으면 나가!\n",
    "                print(i, j)\n",
    "                real_reserve.remove(j)\n",
    "    \n",
    "    return n - len(real_lost) + answer\n",
    "solution(7, [1, 3],[1, 2,3, 5,7])"
   ]
  }
 ],
 "metadata": {
  "kernelspec": {
   "display_name": "Python 3",
   "language": "python",
   "name": "python3"
  },
  "language_info": {
   "codemirror_mode": {
    "name": "ipython",
    "version": 3
   },
   "file_extension": ".py",
   "mimetype": "text/x-python",
   "name": "python",
   "nbconvert_exporter": "python",
   "pygments_lexer": "ipython3",
   "version": "3.8.7"
  },
  "toc": {
   "base_numbering": 1,
   "nav_menu": {},
   "number_sections": true,
   "sideBar": true,
   "skip_h1_title": false,
   "title_cell": "Table of Contents",
   "title_sidebar": "Contents",
   "toc_cell": false,
   "toc_position": {},
   "toc_section_display": true,
   "toc_window_display": false
  },
  "varInspector": {
   "cols": {
    "lenName": 16,
    "lenType": 16,
    "lenVar": 40
   },
   "kernels_config": {
    "python": {
     "delete_cmd_postfix": "",
     "delete_cmd_prefix": "del ",
     "library": "var_list.py",
     "varRefreshCmd": "print(var_dic_list())"
    },
    "r": {
     "delete_cmd_postfix": ") ",
     "delete_cmd_prefix": "rm(",
     "library": "var_list.r",
     "varRefreshCmd": "cat(var_dic_list()) "
    }
   },
   "types_to_exclude": [
    "module",
    "function",
    "builtin_function_or_method",
    "instance",
    "_Feature"
   ],
   "window_display": false
  }
 },
 "nbformat": 4,
 "nbformat_minor": 4
}
