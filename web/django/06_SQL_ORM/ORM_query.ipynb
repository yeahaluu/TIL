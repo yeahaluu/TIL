{
 "cells": [
  {
   "cell_type": "code",
   "execution_count": null,
   "id": "viral-village",
   "metadata": {},
   "outputs": [],
   "source": [
    "#https://docs.djangoproject.com/en/3.1/ref/models/querysets/"
   ]
  },
  {
   "cell_type": "code",
   "execution_count": 1,
   "id": "available-pennsylvania",
   "metadata": {},
   "outputs": [],
   "source": [
    "import os\n",
    "import django\n",
    "os.environ.setdefault('DJANGO_SETTINGS_MODULE', 'rest.settings')\n",
    "os.environ[\"DJANGO_ALLOW_ASYNC_UNSAFE\"] = \"true\"\n",
    "django.setup()"
   ]
  },
  {
   "cell_type": "code",
   "execution_count": 2,
   "id": "strong-listing",
   "metadata": {},
   "outputs": [],
   "source": [
    "from users.models import Customer"
   ]
  },
  {
   "cell_type": "code",
   "execution_count": 5,
   "id": "related-newport",
   "metadata": {},
   "outputs": [
    {
     "data": {
      "text/plain": [
       "<QuerySet [{'first_name': '영환'}, {'first_name': '보람'}, {'first_name': '은영'}, {'first_name': '상현'}, {'first_name': '정훈'}, {'first_name': '서연'}, {'first_name': '정식'}, {'first_name': '영수'}, {'first_name': '예진'}, {'first_name': '은지'}, {'first_name': '준영'}, {'first_name': '숙자'}, {'first_name': '현주'}, {'first_name': '성수'}, {'first_name': '상훈'}, {'first_name': '민재'}, {'first_name': '지아'}, {'first_name': '정순'}, {'first_name': '지원'}, {'first_name': '하은'}, '...(remaining elements truncated)...']>"
      ]
     },
     "execution_count": 5,
     "metadata": {},
     "output_type": "execute_result"
    }
   ],
   "source": [
    "# 나이 30의 이름만\n",
    "Customer.objects.filter(age=30).values('first_name')"
   ]
  },
  {
   "cell_type": "code",
   "execution_count": 6,
   "id": "finished-trinity",
   "metadata": {},
   "outputs": [
    {
     "name": "stdout",
     "output_type": "stream",
     "text": [
      "SELECT \"users_customer\".\"first_name\" FROM \"users_customer\" WHERE \"users_customer\".\"age\" = 30\n"
     ]
    }
   ],
   "source": [
    "print(Customer.objects.filter(age=30).values('first_name').query)"
   ]
  },
  {
   "cell_type": "code",
   "execution_count": 9,
   "id": "million-hygiene",
   "metadata": {},
   "outputs": [
    {
     "data": {
      "text/plain": [
       "414"
      ]
     },
     "execution_count": 9,
     "metadata": {},
     "output_type": "execute_result"
    }
   ],
   "source": [
    "# 나이가 30 이상인 사람의 인원 수  COL __gte, __gt, __lte, __lt\n",
    "Customer.objects.filter(age__gte=30).count()"
   ]
  },
  {
   "cell_type": "code",
   "execution_count": 10,
   "id": "exposed-reasoning",
   "metadata": {},
   "outputs": [
    {
     "data": {
      "text/plain": [
       "213"
      ]
     },
     "execution_count": 10,
     "metadata": {},
     "output_type": "execute_result"
    }
   ],
   "source": [
    "# 미성년자의 인원수\n",
    "Customer.objects.filter(age__lt=20).count()"
   ]
  },
  {
   "cell_type": "code",
   "execution_count": 20,
   "id": "applicable-royalty",
   "metadata": {},
   "outputs": [
    {
     "data": {
      "text/plain": [
       "6"
      ]
     },
     "execution_count": 20,
     "metadata": {},
     "output_type": "execute_result"
    }
   ],
   "source": [
    "# 30 이면서 동시에 김씨인 사람 수\n",
    "# Customer.objects.filter(age=30, last_name='김').values('last_name','first_name')\n",
    "Customer.objects.filter(age=30, last_name='김').count()"
   ]
  },
  {
   "cell_type": "code",
   "execution_count": 21,
   "id": "electronic-conservation",
   "metadata": {},
   "outputs": [
    {
     "data": {
      "text/plain": [
       "112"
      ]
     },
     "execution_count": 21,
     "metadata": {},
     "output_type": "execute_result"
    }
   ],
   "source": [
    "# 30이상이면서 동시에 김씨인 사람 수\n",
    "Customer.objects.filter(age__gte=30, last_name='김').count()"
   ]
  },
  {
   "cell_type": "code",
   "execution_count": 25,
   "id": "proved-upset",
   "metadata": {},
   "outputs": [
    {
     "data": {
      "text/plain": [
       "425"
      ]
     },
     "execution_count": 25,
     "metadata": {},
     "output_type": "execute_result"
    }
   ],
   "source": [
    "# 30이상이거나 동시에 김씨인 사람 수\n",
    "from django.db.models import Q\n",
    "Customer.objects.filter(Q(age__gte=30)|Q(last_name='강')).count()"
   ]
  },
  {
   "cell_type": "code",
   "execution_count": 24,
   "id": "affiliated-particle",
   "metadata": {},
   "outputs": [
    {
     "data": {
      "text/plain": [
       "425"
      ]
     },
     "execution_count": 24,
     "metadata": {},
     "output_type": "execute_result"
    }
   ],
   "source": [
    "(Customer.objects.filter(last_name='강') | Customer.objects.filter(age__gte=30)).count()"
   ]
  },
  {
   "cell_type": "code",
   "execution_count": 26,
   "id": "velvet-russell",
   "metadata": {},
   "outputs": [
    {
     "data": {
      "text/plain": [
       "249"
      ]
     },
     "execution_count": 26,
     "metadata": {},
     "output_type": "execute_result"
    }
   ],
   "source": [
    "# '%' => 무엇이든, '_' => 반드시 그 자리에\n",
    "# django orm 에서는 %만 사용 가능, 그 이상으로 패턴 비교를 하려면, 아예 정규표현식(regex)를 사용한다.\n",
    "# 'python requlation 휴대폰 전화번호' 검색: 책 한권 분량 글 볼 수 있다\n",
    "# https://regexr.com/\n",
    "# 02- 로 시작하는 전화번호 개수 (02-%)\n",
    "Customer.objects.filter(phone__startswith='02-').count()"
   ]
  },
  {
   "cell_type": "code",
   "execution_count": 29,
   "id": "weird-health",
   "metadata": {},
   "outputs": [
    {
     "name": "stdout",
     "output_type": "stream",
     "text": [
      "SELECT \"users_customer\".\"id\", \"users_customer\".\"first_name\", \"users_customer\".\"last_name\", \"users_customer\".\"age\", \"users_customer\".\"country\", \"users_customer\".\"phone\", \"users_customer\".\"balance\" FROM \"users_customer\" WHERE \"users_customer\".\"phone\" LIKE 02-% ESCAPE '\\'\n"
     ]
    }
   ],
   "source": [
    "print(Customer.objects.filter(phone__startswith='02-').query)"
   ]
  },
  {
   "cell_type": "code",
   "execution_count": 30,
   "id": "critical-matrix",
   "metadata": {},
   "outputs": [
    {
     "data": {
      "text/plain": [
       "<QuerySet [{'first_name': '은정'}, {'first_name': '혜진'}, {'first_name': '경수'}, {'first_name': '준영'}]>"
      ]
     },
     "execution_count": 30,
     "metadata": {},
     "output_type": "execute_result"
    }
   ],
   "source": [
    "# 강원도민 중 황씨의 이름\n",
    "Customer.objects.filter(country='강원도', last_name='황').values('first_name')"
   ]
  },
  {
   "cell_type": "code",
   "execution_count": 34,
   "id": "excited-tribe",
   "metadata": {},
   "outputs": [
    {
     "data": {
      "text/plain": [
       "<QuerySet [<Customer: Customer object (1)>, <Customer: Customer object (4)>, <Customer: Customer object (28)>, <Customer: Customer object (53)>, <Customer: Customer object (65)>, <Customer: Customer object (123)>, <Customer: Customer object (138)>, <Customer: Customer object (172)>, <Customer: Customer object (182)>, <Customer: Customer object (186)>]>"
      ]
     },
     "execution_count": 34,
     "metadata": {},
     "output_type": "execute_result"
    }
   ],
   "source": [
    "# 나이가 가장 많은 사람 10명 (-로 내림차순)\n",
    "Customer.objects.order_by('-age')[:10]\n",
    "# 이러면 다 꺼내와서 그 중 10개만 고른 거니까 좀 쓸데없는 짓 한거 아냐? \n",
    "# 아냐아냐 ORM은 일 좀 잘해서 개떡같이 물어봐도 잘 대답해주는 감이 없잖아 있지\n",
    "# => 자동으로 ORM이 LIMIT, OFFSET 을 처리해준다."
   ]
  },
  {
   "cell_type": "code",
   "execution_count": 38,
   "id": "discrete-traveler",
   "metadata": {},
   "outputs": [
    {
     "data": {
      "text/plain": [
       "<QuerySet [{'balance': 150}, {'balance': 150}, {'balance': 150}, {'balance': 150}, {'balance': 150}, {'balance': 160}, {'balance': 160}, {'balance': 160}, {'balance': 160}, {'balance': 170}]>"
      ]
     },
     "execution_count": 38,
     "metadata": {},
     "output_type": "execute_result"
    }
   ],
   "source": [
    "# 최빈 10명\n",
    "Customer.objects.order_by('balance')[:10].values('balance')"
   ]
  },
  {
   "cell_type": "code",
   "execution_count": 40,
   "id": "scientific-appendix",
   "metadata": {},
   "outputs": [
    {
     "data": {
      "text/plain": [
       "<QuerySet [{'balance': 150, 'age': 33}, {'balance': 150, 'age': 32}, {'balance': 150, 'age': 32}, {'balance': 150, 'age': 28}, {'balance': 150, 'age': 20}, {'balance': 160, 'age': 36}, {'balance': 160, 'age': 32}, {'balance': 160, 'age': 25}, {'balance': 160, 'age': 23}, {'balance': 170, 'age': 37}]>"
      ]
     },
     "execution_count": 40,
     "metadata": {},
     "output_type": "execute_result"
    }
   ],
   "source": [
    "# 최빈 중 최연장자 10명\n",
    "Customer.objects.order_by('balance', '-age')[:10].values('balance','age')"
   ]
  },
  {
   "cell_type": "code",
   "execution_count": 41,
   "id": "recent-requirement",
   "metadata": {},
   "outputs": [
    {
     "data": {
      "text/plain": [
       "<QuerySet [{'balance': 190, 'age': 40}, {'balance': 370, 'age': 40}, {'balance': 550, 'age': 40}, {'balance': 620, 'age': 40}, {'balance': 630, 'age': 40}, {'balance': 720, 'age': 40}, {'balance': 740, 'age': 40}, {'balance': 760, 'age': 40}, {'balance': 870, 'age': 40}, {'balance': 960, 'age': 40}]>"
      ]
     },
     "execution_count": 41,
     "metadata": {},
     "output_type": "execute_result"
    }
   ],
   "source": [
    "# 최연장자 중 최빈 10명\n",
    "Customer.objects.order_by('-age', 'balance')[:10].values('balance','age')"
   ]
  },
  {
   "cell_type": "code",
   "execution_count": 43,
   "id": "parliamentary-support",
   "metadata": {},
   "outputs": [
    {
     "data": {
      "text/plain": [
       "{'id': 912,\n",
       " 'first_name': '준영',\n",
       " 'last_name': '황',\n",
       " 'age': 16,\n",
       " 'country': '강원도',\n",
       " 'phone': '02-1030-5139',\n",
       " 'balance': 6500}"
      ]
     },
     "execution_count": 43,
     "metadata": {},
     "output_type": "execute_result"
    }
   ],
   "source": [
    "# 성/ 이름 ㄱㄴㄷ 정렬 내림차순\n",
    "Customer.objects.order_by('-last_name', '-first_name').values()[4]"
   ]
  },
  {
   "cell_type": "markdown",
   "id": "major-investigation",
   "metadata": {},
   "source": [
    "# Annotate"
   ]
  },
  {
   "cell_type": "code",
   "execution_count": 51,
   "id": "superior-moscow",
   "metadata": {},
   "outputs": [
    {
     "data": {
      "text/plain": [
       "{'id': 1,\n",
       " 'first_name': '정호',\n",
       " 'last_name': '유',\n",
       " 'age': 40,\n",
       " 'country': '전라북도',\n",
       " 'phone': '016-7280-2855',\n",
       " 'balance': 370,\n",
       " 'full_name': '정호유'}"
      ]
     },
     "execution_count": 51,
     "metadata": {},
     "output_type": "execute_result"
    }
   ],
   "source": [
    "from django.db.models import Count\n",
    "from django.db.models.functions import Concat\n",
    "Customer.objects.annotate(full_name=Concat('first_name', 'last_name')).values()[0]"
   ]
  },
  {
   "cell_type": "code",
   "execution_count": 53,
   "id": "future-chapel",
   "metadata": {},
   "outputs": [
    {
     "data": {
      "text/plain": [
       "{'id': 2,\n",
       " 'first_name': '경희',\n",
       " 'last_name': '이',\n",
       " 'age': 36,\n",
       " 'country': '경상남도',\n",
       " 'phone': '011-9854-5133',\n",
       " 'balance': 5900,\n",
       " 'country__count': 1}"
      ]
     },
     "execution_count": 53,
     "metadata": {},
     "output_type": "execute_result"
    }
   ],
   "source": [
    "Customer.objects.annotate(Count('country')).values()[1]"
   ]
  },
  {
   "cell_type": "code",
   "execution_count": null,
   "id": "nominated-seller",
   "metadata": {},
   "outputs": [],
   "source": [
    "articles = Article.objects.all()\n",
    "for article in articles:\n",
    "    print(f'{article.title} {article.comment_set.count()}'')"
   ]
  },
  {
   "cell_type": "code",
   "execution_count": 55,
   "id": "adjustable-convention",
   "metadata": {},
   "outputs": [
    {
     "ename": "NameError",
     "evalue": "name 'Article' is not defined",
     "output_type": "error",
     "traceback": [
      "\u001b[1;31m--------------------------------------------------------------------------\u001b[0m",
      "\u001b[1;31mNameError\u001b[0m                                Traceback (most recent call last)",
      "\u001b[1;32m<ipython-input-55-f9784f9e6cae>\u001b[0m in \u001b[0;36m<module>\u001b[1;34m\u001b[0m\n\u001b[1;32m----> 1\u001b[1;33m \u001b[0ma\u001b[0m \u001b[1;33m=\u001b[0m \u001b[0mArticle\u001b[0m\u001b[1;33m.\u001b[0m\u001b[0mobjects\u001b[0m\u001b[1;33m.\u001b[0m\u001b[0mfirst\u001b[0m\u001b[1;33m(\u001b[0m\u001b[1;33m)\u001b[0m\u001b[1;33m\u001b[0m\u001b[1;33m\u001b[0m\u001b[0m\n\u001b[0m",
      "\u001b[1;31mNameError\u001b[0m: name 'Article' is not defined"
     ]
    }
   ],
   "source": [
    "Article.objects.annotate(Count('comment')).values('title','comment__count')\n",
    "for article in articles:\n",
    "    print(f\"{article.get('title')} {article.comment__count}\")"
   ]
  },
  {
   "cell_type": "code",
   "execution_count": null,
   "id": "impressive-programming",
   "metadata": {},
   "outputs": [],
   "source": []
  },
  {
   "cell_type": "code",
   "execution_count": null,
   "id": "technical-cliff",
   "metadata": {},
   "outputs": [],
   "source": []
  }
 ],
 "metadata": {
  "kernelspec": {
   "display_name": "Django Shell-Plus",
   "language": "python",
   "name": "django_extensions"
  },
  "language_info": {
   "codemirror_mode": {
    "name": "ipython",
    "version": 3
   },
   "file_extension": ".py",
   "mimetype": "text/x-python",
   "name": "python",
   "nbconvert_exporter": "python",
   "pygments_lexer": "ipython3",
   "version": "3.8.5"
  },
  "toc": {
   "base_numbering": 1,
   "nav_menu": {},
   "number_sections": true,
   "sideBar": true,
   "skip_h1_title": false,
   "title_cell": "Table of Contents",
   "title_sidebar": "Contents",
   "toc_cell": false,
   "toc_position": {},
   "toc_section_display": true,
   "toc_window_display": false
  },
  "varInspector": {
   "cols": {
    "lenName": 16,
    "lenType": 16,
    "lenVar": 40
   },
   "kernels_config": {
    "python": {
     "delete_cmd_postfix": "",
     "delete_cmd_prefix": "del ",
     "library": "var_list.py",
     "varRefreshCmd": "print(var_dic_list())"
    },
    "r": {
     "delete_cmd_postfix": ") ",
     "delete_cmd_prefix": "rm(",
     "library": "var_list.r",
     "varRefreshCmd": "cat(var_dic_list()) "
    }
   },
   "types_to_exclude": [
    "module",
    "function",
    "builtin_function_or_method",
    "instance",
    "_Feature"
   ],
   "window_display": false
  }
 },
 "nbformat": 4,
 "nbformat_minor": 5
}
